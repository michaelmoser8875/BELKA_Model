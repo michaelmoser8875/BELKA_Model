{
  "nbformat": 4,
  "nbformat_minor": 0,
  "metadata": {
    "colab": {
      "provenance": []
    },
    "kernelspec": {
      "name": "python3",
      "display_name": "Python 3"
    },
    "language_info": {
      "name": "python"
    }
  },
  "cells": [
    {
      "cell_type": "code",
      "execution_count": 1,
      "metadata": {
        "id": "z44Po2ReXNxp",
        "colab": {
          "base_uri": "https://localhost:8080/"
        },
        "outputId": "a6629eb1-5583-4bc8-c9d4-55705e30dca1"
      },
      "outputs": [
        {
          "output_type": "stream",
          "name": "stdout",
          "text": [
            "Collecting rdkit-pypi==2023.3.1b1\n",
            "  Downloading rdkit_pypi-2023.3.1b1-cp310-cp310-manylinux_2_17_x86_64.manylinux2014_x86_64.whl (29.7 MB)\n",
            "\u001b[2K     \u001b[90m━━━━━━━━━━━━━━━━━━━━━━━━━━━━━━━━━━━━━━━━\u001b[0m \u001b[32m29.7/29.7 MB\u001b[0m \u001b[31m10.8 MB/s\u001b[0m eta \u001b[36m0:00:00\u001b[0m\n",
            "\u001b[?25hRequirement already satisfied: numpy in /usr/local/lib/python3.10/dist-packages (from rdkit-pypi==2023.3.1b1) (1.25.2)\n",
            "Requirement already satisfied: Pillow in /usr/local/lib/python3.10/dist-packages (from rdkit-pypi==2023.3.1b1) (9.4.0)\n",
            "Installing collected packages: rdkit-pypi\n",
            "Successfully installed rdkit-pypi-2023.3.1b1\n"
          ]
        }
      ],
      "source": [
        "import numpy as np\n",
        "import pandas as pd\n",
        "import os\n",
        "os.environ[\"KERAS_BACKEND\"] = \"pytorch\"\n",
        "import keras\n",
        "from keras import layers\n",
        "!pip install rdkit-pypi==2023.3.1b1 --upgrade\n",
        "from rdkit import Chem"
      ]
    },
    {
      "cell_type": "code",
      "source": [
        "!mkdir ~/.kaggle\n",
        "!echo '{\"username\":\"michaelmoser1\",\"key\":\"fb607e421aa0b4036f30d872f4f26f92\"}' > ~/.kaggle/kaggle.json\n",
        "!chmod 600 ~/.kaggle/kaggle.json\n",
        "!pip install kaggle"
      ],
      "metadata": {
        "colab": {
          "base_uri": "https://localhost:8080/"
        },
        "id": "LPZTjslDeLYz",
        "outputId": "dc09f324-013b-4762-9ca7-9af95469ccfb"
      },
      "execution_count": 2,
      "outputs": [
        {
          "output_type": "stream",
          "name": "stdout",
          "text": [
            "Requirement already satisfied: kaggle in /usr/local/lib/python3.10/dist-packages (1.6.12)\n",
            "Requirement already satisfied: six>=1.10 in /usr/local/lib/python3.10/dist-packages (from kaggle) (1.16.0)\n",
            "Requirement already satisfied: certifi>=2023.7.22 in /usr/local/lib/python3.10/dist-packages (from kaggle) (2024.2.2)\n",
            "Requirement already satisfied: python-dateutil in /usr/local/lib/python3.10/dist-packages (from kaggle) (2.8.2)\n",
            "Requirement already satisfied: requests in /usr/local/lib/python3.10/dist-packages (from kaggle) (2.31.0)\n",
            "Requirement already satisfied: tqdm in /usr/local/lib/python3.10/dist-packages (from kaggle) (4.66.4)\n",
            "Requirement already satisfied: python-slugify in /usr/local/lib/python3.10/dist-packages (from kaggle) (8.0.4)\n",
            "Requirement already satisfied: urllib3 in /usr/local/lib/python3.10/dist-packages (from kaggle) (2.0.7)\n",
            "Requirement already satisfied: bleach in /usr/local/lib/python3.10/dist-packages (from kaggle) (6.1.0)\n",
            "Requirement already satisfied: webencodings in /usr/local/lib/python3.10/dist-packages (from bleach->kaggle) (0.5.1)\n",
            "Requirement already satisfied: text-unidecode>=1.3 in /usr/local/lib/python3.10/dist-packages (from python-slugify->kaggle) (1.3)\n",
            "Requirement already satisfied: charset-normalizer<4,>=2 in /usr/local/lib/python3.10/dist-packages (from requests->kaggle) (3.3.2)\n",
            "Requirement already satisfied: idna<4,>=2.5 in /usr/local/lib/python3.10/dist-packages (from requests->kaggle) (3.7)\n"
          ]
        }
      ]
    },
    {
      "cell_type": "code",
      "source": [
        "! kaggle competitions download leash-BELKA"
      ],
      "metadata": {
        "colab": {
          "base_uri": "https://localhost:8080/"
        },
        "id": "iNO34V2ukh9A",
        "outputId": "4079c976-cb0b-4ebf-e897-43cb70d79952"
      },
      "execution_count": 3,
      "outputs": [
        {
          "output_type": "stream",
          "name": "stdout",
          "text": [
            "Downloading leash-BELKA.zip to /content\n",
            "100% 4.15G/4.16G [00:42<00:00, 145MB/s]\n",
            "100% 4.16G/4.16G [00:43<00:00, 104MB/s]\n"
          ]
        }
      ]
    },
    {
      "cell_type": "code",
      "source": [
        "! unzip leash-BELKA.zip"
      ],
      "metadata": {
        "colab": {
          "base_uri": "https://localhost:8080/"
        },
        "id": "5Ms8orbXq0Ne",
        "outputId": "dd2c5d53-13e1-4b9c-e4b0-ff3972bb705c"
      },
      "execution_count": 4,
      "outputs": [
        {
          "output_type": "stream",
          "name": "stdout",
          "text": [
            "Archive:  leash-BELKA.zip\n",
            "  inflating: sample_submission.csv   \n",
            "  inflating: test.csv                \n",
            "  inflating: test.parquet            \n",
            "  inflating: train.csv               \n",
            "  inflating: train.parquet           \n"
          ]
        }
      ]
    },
    {
      "cell_type": "code",
      "source": [
        "from keras.models import Sequential\n",
        "from keras.layers import Dense\n",
        "from keras.optimizers import Adam\n",
        "\n",
        "model = Sequential([\n",
        "    Dense(128, activation='relu', input_dim=K),\n",
        "    Dense(64, activation='relu'),\n",
        "    Dense(3, activation='sigmoid')\n",
        "])\n",
        "\n",
        "model.compile(optimizer=Adam(), loss='binary_crossentropy', metrics=['accuracy'])"
      ],
      "metadata": {
        "colab": {
          "base_uri": "https://localhost:8080/",
          "height": 176
        },
        "id": "aetAL0d7rnRX",
        "outputId": "12441e97-7286-4b0f-e2e7-7931ef3a4055"
      },
      "execution_count": null,
      "outputs": [
        {
          "output_type": "error",
          "ename": "NameError",
          "evalue": "name 'process_chunk' is not defined",
          "traceback": [
            "\u001b[0;31m---------------------------------------------------------------------------\u001b[0m",
            "\u001b[0;31mNameError\u001b[0m                                 Traceback (most recent call last)",
            "\u001b[0;32m<ipython-input-9-06fcc48db353>\u001b[0m in \u001b[0;36m<cell line: 4>\u001b[0;34m()\u001b[0m\n\u001b[1;32m      3\u001b[0m \u001b[0mdf\u001b[0m \u001b[0;34m=\u001b[0m \u001b[0mpd\u001b[0m\u001b[0;34m.\u001b[0m\u001b[0mread_csv\u001b[0m\u001b[0;34m(\u001b[0m\u001b[0;34m'train.csv'\u001b[0m\u001b[0;34m,\u001b[0m \u001b[0mchunksize\u001b[0m\u001b[0;34m=\u001b[0m\u001b[0mchunk_size\u001b[0m\u001b[0;34m)\u001b[0m\u001b[0;34m\u001b[0m\u001b[0;34m\u001b[0m\u001b[0m\n\u001b[1;32m      4\u001b[0m \u001b[0;32mfor\u001b[0m \u001b[0mchunk\u001b[0m \u001b[0;32min\u001b[0m \u001b[0mdf\u001b[0m\u001b[0;34m:\u001b[0m\u001b[0;34m\u001b[0m\u001b[0;34m\u001b[0m\u001b[0m\n\u001b[0;32m----> 5\u001b[0;31m     \u001b[0mprocessed_chunk\u001b[0m \u001b[0;34m=\u001b[0m \u001b[0mprocess_chunk\u001b[0m\u001b[0;34m(\u001b[0m\u001b[0mchunk\u001b[0m\u001b[0;34m)\u001b[0m\u001b[0;34m\u001b[0m\u001b[0;34m\u001b[0m\u001b[0m\n\u001b[0m",
            "\u001b[0;31mNameError\u001b[0m: name 'process_chunk' is not defined"
          ]
        }
      ]
    },
    {
      "cell_type": "code",
      "source": [
        "def X_processing(pca, X):\n",
        "  pca.fit(X)\n",
        "  return pca.transform(X)"
      ],
      "metadata": {
        "id": "vh-CwvMG0utf"
      },
      "execution_count": 16,
      "outputs": []
    },
    {
      "cell_type": "code",
      "source": [
        "from rdkit.Chem import Descriptors\n",
        "from sklearn.decomposition import PCA\n",
        "from sklearn.preprocessing import StandardScaler\n",
        "# chunk_size = 100\n",
        "# df = pd.read_csv('train.csv', chunksize=chunk_size)\n",
        "# i = 0\n",
        "# for chunk in df:\n",
        "#   descriptors = [Descriptors.CalcMolDescriptors(Chem.MolFromSmiles(mol)) for mol in chunk['molecule_smiles'].tolist()]\n",
        "#   features_df = pd.DataFrame(descriptors)\n",
        "#   X = features_df.to_numpy()\n",
        "#   Y =\n",
        "#   pca = PCA(n_components=209)\n",
        "#   pca.fit(X)\n",
        "#   break\n",
        "\n",
        "import pandas as pd\n",
        "\n",
        "chunk_size = 1000\n",
        "df = pd.read_csv('train.csv', chunksize=chunk_size)\n",
        "\n",
        "descriptor_names = [desc[0] for desc in Descriptors.descList]\n",
        "\n",
        "# Assuming df is defined earlier as a pandas DataFrame iterator\n",
        "# e.g., df = pd.read_csv('train.csv', chunksize=chunk_size)\n",
        "for chunk in df:\n",
        "  pivot = chunk.pivot(index='molecule_smiles', columns='protein_name', values='binds')\n",
        "  pivot.reset_index(inplace=True)\n",
        "  pivot['Descriptors'] = pivot['molecule_smiles'].apply(lambda mol: [desc[1](Chem.MolFromSmiles(mol)) for desc in Descriptors.descList])\n",
        "\n",
        "  descriptors_df = pd.DataFrame(pivot['Descriptors'].tolist(), columns=descriptor_names, index=pivot.index)\n",
        "  final_df = pd.concat([pivot, descriptors_df], axis=1)\n",
        "  X = final_df.drop(columns=['molecule_smiles'] + list(pivot.columns.get_level_values(0))).to_numpy()\n",
        "  Y = pivot[['BRD4', 'HSA', 'sEH']].to_numpy()\n",
        "\n",
        "  X = np.nan_to_num(X, nan=0.0, posinf=0.0, neginf=0.0)\n",
        "  Y = np.nan_to_num(Y, nan=0.0, posinf=0.0, neginf=0.0)\n",
        "\n",
        "  scaler = StandardScaler()\n",
        "  X = scaler.fit_transform(X)\n",
        "\n",
        "  pca = PCA(n_components=209)\n",
        "  pca.fit(X)\n",
        "  cum_var_ratio = pca.explained_variance_ratio_.cumsum()\n",
        "  K = (cum_var_ratio >= 0.85).argmax() + 1\n",
        "  print(\"Number of features for 85% energy:\", K)\n",
        "\n",
        "  pca = PCA(n_components=K)\n",
        "  Theta_train = X_processing(pca, X)\n",
        "\n",
        "  break\n"
      ],
      "metadata": {
        "colab": {
          "base_uri": "https://localhost:8080/"
        },
        "id": "eNQ3EXfunp-R",
        "outputId": "1beb59fe-86ba-4ee1-a04a-e390783c480a"
      },
      "execution_count": 27,
      "outputs": [
        {
          "output_type": "stream",
          "name": "stdout",
          "text": [
            "Number of features for 85% energy: 33\n"
          ]
        }
      ]
    },
    {
      "cell_type": "code",
      "source": [],
      "metadata": {
        "id": "beKZ-WBj_nze"
      },
      "execution_count": null,
      "outputs": []
    }
  ]
}