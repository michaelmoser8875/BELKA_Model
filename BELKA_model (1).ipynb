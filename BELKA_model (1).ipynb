{
  "nbformat": 4,
  "nbformat_minor": 0,
  "metadata": {
    "colab": {
      "provenance": [],
      "machine_shape": "hm",
      "gpuType": "A100"
    },
    "kernelspec": {
      "name": "python3",
      "display_name": "Python 3"
    },
    "language_info": {
      "name": "python"
    },
    "accelerator": "GPU"
  },
  "cells": [
    {
      "cell_type": "code",
      "execution_count": null,
      "metadata": {
        "id": "z44Po2ReXNxp",
        "colab": {
          "base_uri": "https://localhost:8080/"
        },
        "outputId": "9488558f-088e-475d-98df-9a69f89ae2ec"
      },
      "outputs": [
        {
          "output_type": "stream",
          "name": "stdout",
          "text": [
            "Collecting rdkit-pypi==2023.3.1b1\n",
            "  Downloading rdkit_pypi-2023.3.1b1-cp310-cp310-manylinux_2_17_x86_64.manylinux2014_x86_64.whl (29.7 MB)\n",
            "\u001b[2K     \u001b[90m━━━━━━━━━━━━━━━━━━━━━━━━━━━━━━━━━━━━━━━━\u001b[0m \u001b[32m29.7/29.7 MB\u001b[0m \u001b[31m9.6 MB/s\u001b[0m eta \u001b[36m0:00:00\u001b[0m\n",
            "\u001b[?25hRequirement already satisfied: numpy in /usr/local/lib/python3.10/dist-packages (from rdkit-pypi==2023.3.1b1) (1.25.2)\n",
            "Requirement already satisfied: Pillow in /usr/local/lib/python3.10/dist-packages (from rdkit-pypi==2023.3.1b1) (9.4.0)\n",
            "Installing collected packages: rdkit-pypi\n",
            "Successfully installed rdkit-pypi-2023.3.1b1\n"
          ]
        }
      ],
      "source": [
        "import numpy as np\n",
        "import pandas as pd\n",
        "import os\n",
        "os.environ[\"KERAS_BACKEND\"] = \"pytorch\"\n",
        "import keras\n",
        "from keras import layers\n",
        "!pip install rdkit-pypi==2023.3.1b1 --upgrade\n",
        "from rdkit import Chem"
      ]
    },
    {
      "cell_type": "code",
      "source": [
        "!mkdir ~/.kaggle\n",
        "!echo '{\"username\":\"michaelmoser1\",\"key\":\"fb607e421aa0b4036f30d872f4f26f92\"}' > ~/.kaggle/kaggle.json\n",
        "!chmod 600 ~/.kaggle/kaggle.json\n",
        "!pip install kaggle"
      ],
      "metadata": {
        "colab": {
          "base_uri": "https://localhost:8080/"
        },
        "id": "LPZTjslDeLYz",
        "outputId": "b7cd32a3-8e53-4591-ea00-1b53eff294aa"
      },
      "execution_count": null,
      "outputs": [
        {
          "output_type": "stream",
          "name": "stdout",
          "text": [
            "Requirement already satisfied: kaggle in /usr/local/lib/python3.10/dist-packages (1.6.14)\n",
            "Requirement already satisfied: six>=1.10 in /usr/local/lib/python3.10/dist-packages (from kaggle) (1.16.0)\n",
            "Requirement already satisfied: certifi>=2023.7.22 in /usr/local/lib/python3.10/dist-packages (from kaggle) (2024.6.2)\n",
            "Requirement already satisfied: python-dateutil in /usr/local/lib/python3.10/dist-packages (from kaggle) (2.8.2)\n",
            "Requirement already satisfied: requests in /usr/local/lib/python3.10/dist-packages (from kaggle) (2.31.0)\n",
            "Requirement already satisfied: tqdm in /usr/local/lib/python3.10/dist-packages (from kaggle) (4.66.4)\n",
            "Requirement already satisfied: python-slugify in /usr/local/lib/python3.10/dist-packages (from kaggle) (8.0.4)\n",
            "Requirement already satisfied: urllib3 in /usr/local/lib/python3.10/dist-packages (from kaggle) (2.0.7)\n",
            "Requirement already satisfied: bleach in /usr/local/lib/python3.10/dist-packages (from kaggle) (6.1.0)\n",
            "Requirement already satisfied: webencodings in /usr/local/lib/python3.10/dist-packages (from bleach->kaggle) (0.5.1)\n",
            "Requirement already satisfied: text-unidecode>=1.3 in /usr/local/lib/python3.10/dist-packages (from python-slugify->kaggle) (1.3)\n",
            "Requirement already satisfied: charset-normalizer<4,>=2 in /usr/local/lib/python3.10/dist-packages (from requests->kaggle) (3.3.2)\n",
            "Requirement already satisfied: idna<4,>=2.5 in /usr/local/lib/python3.10/dist-packages (from requests->kaggle) (3.7)\n"
          ]
        }
      ]
    },
    {
      "cell_type": "code",
      "source": [
        "! kaggle competitions download leash-BELKA"
      ],
      "metadata": {
        "colab": {
          "base_uri": "https://localhost:8080/"
        },
        "id": "iNO34V2ukh9A",
        "outputId": "845cb048-e6bc-4dde-8cb7-37b7919db1ce"
      },
      "execution_count": null,
      "outputs": [
        {
          "output_type": "stream",
          "name": "stdout",
          "text": [
            "Downloading leash-BELKA.zip to /content\n",
            "100% 4.14G/4.16G [00:34<00:00, 119MB/s]\n",
            "100% 4.16G/4.16G [00:34<00:00, 131MB/s]\n"
          ]
        }
      ]
    },
    {
      "cell_type": "code",
      "source": [
        "! unzip leash-BELKA.zip"
      ],
      "metadata": {
        "colab": {
          "base_uri": "https://localhost:8080/"
        },
        "id": "5Ms8orbXq0Ne",
        "outputId": "e91e18f9-bff7-48f5-b74c-7ee5e39f2f9d"
      },
      "execution_count": null,
      "outputs": [
        {
          "output_type": "stream",
          "name": "stdout",
          "text": [
            "Archive:  leash-BELKA.zip\n",
            "  inflating: sample_submission.csv   \n",
            "  inflating: test.csv                \n",
            "  inflating: test.parquet            \n",
            "  inflating: train.csv               \n",
            "  inflating: train.parquet           \n"
          ]
        }
      ]
    },
    {
      "cell_type": "code",
      "source": [
        "def X_processing(pca, X):\n",
        "  pca.fit(X)\n",
        "  return pca.transform(X)"
      ],
      "metadata": {
        "id": "vh-CwvMG0utf"
      },
      "execution_count": null,
      "outputs": []
    },
    {
      "cell_type": "code",
      "source": [
        "from rdkit.Chem import Descriptors\n",
        "from sklearn.decomposition import PCA\n",
        "from sklearn.preprocessing import StandardScaler\n",
        "# chunk_size = 100\n",
        "# df = pd.read_csv('train.csv', chunksize=chunk_size)\n",
        "# i = 0\n",
        "# for chunk in df:\n",
        "#   descriptors = [Descriptors.CalcMolDescriptors(Chem.MolFromSmiles(mol)) for mol in chunk['molecule_smiles'].tolist()]\n",
        "#   features_df = pd.DataFrame(descriptors)\n",
        "#   X = features_df.to_numpy()\n",
        "#   Y =\n",
        "#   pca = PCA(n_components=209)\n",
        "#   pca.fit(X)\n",
        "#   break\n",
        "\n",
        "import pandas as pd\n",
        "\n",
        "from keras.models import Sequential\n",
        "from keras.layers import Dense\n",
        "from keras.optimizers import Adam\n",
        "\n",
        "model = Sequential([\n",
        "    Dense(128, activation='relu', input_dim=30),\n",
        "    Dense(64, activation='relu'),\n",
        "    Dense(3, activation='sigmoid')\n",
        "])\n",
        "\n",
        "model.compile(optimizer=Adam(), loss='binary_crossentropy', metrics=['accuracy'])\n",
        "\n",
        "chunk_size = 100000\n",
        "df = pd.read_csv('train.csv', chunksize=chunk_size)\n",
        "\n",
        "descriptor_names = [desc[0] for desc in Descriptors.descList]\n",
        "\n",
        "# Assuming df is defined earlier as a pandas DataFrame iterator\n",
        "# e.g., df = pd.read_csv('train.csv', chunksize=chunk_size)\n",
        "for chunk in df:\n",
        "  pivot = chunk.pivot(index='molecule_smiles', columns='protein_name', values='binds')\n",
        "  pivot.reset_index(inplace=True)\n",
        "  pivot['Descriptors'] = pivot['molecule_smiles'].apply(lambda mol: [desc[1](Chem.MolFromSmiles(mol)) for desc in Descriptors.descList])\n",
        "\n",
        "  descriptors_df = pd.DataFrame(pivot['Descriptors'].tolist(), columns=descriptor_names, index=pivot.index)\n",
        "  final_df = pd.concat([pivot, descriptors_df], axis=1)\n",
        "  X = final_df.drop(columns=['molecule_smiles'] + list(pivot.columns.get_level_values(0))).to_numpy()\n",
        "  Y = pivot[['BRD4', 'HSA', 'sEH']].to_numpy()\n",
        "\n",
        "  X = np.nan_to_num(X, nan=0.0, posinf=0.0, neginf=0.0)\n",
        "  Y = np.nan_to_num(Y, nan=0.0, posinf=0.0, neginf=0.0)\n",
        "\n",
        "  scaler = StandardScaler()\n",
        "  X = scaler.fit_transform(X)\n",
        "  pca = PCA(n_components=30)\n",
        "  Theta_train = X_processing(pca, X)\n",
        "\n",
        "  model.fit(Theta_train, Y, epochs=10, batch_size=32, validation_split=0.2)\n",
        "\n",
        "  break\n"
      ],
      "metadata": {
        "colab": {
          "base_uri": "https://localhost:8080/"
        },
        "id": "eNQ3EXfunp-R",
        "outputId": "1beb59fe-86ba-4ee1-a04a-e390783c480a"
      },
      "execution_count": null,
      "outputs": [
        {
          "output_type": "stream",
          "name": "stdout",
          "text": [
            "Number of features for 85% energy: 33\n"
          ]
        }
      ]
    },
    {
      "cell_type": "code",
      "source": [
        "import pandas as pd\n",
        "import numpy as np\n",
        "from keras.models import Sequential, load_model\n",
        "from keras.layers import Dense\n",
        "from keras.optimizers import Adam\n",
        "from sklearn.preprocessing import StandardScaler\n",
        "from sklearn.decomposition import PCA\n",
        "from rdkit import Chem\n",
        "from rdkit.Chem import Descriptors\n",
        "\n",
        "model = Sequential([\n",
        "    Dense(128, activation='relu', input_dim=30),\n",
        "    Dense(64, activation='relu'),\n",
        "    Dense(3, activation='sigmoid')\n",
        "])\n",
        "\n",
        "model.compile(optimizer=Adam(), loss='binary_crossentropy', metrics=['accuracy'])\n",
        "\n",
        "chunk_size = 100000\n",
        "train_file = 'train.csv'\n",
        "descriptor_names = [desc[0] for desc in Descriptors.descList]\n",
        "\n",
        "def X_processing(pca, X):\n",
        "    return pca.transform(X)\n",
        "\n",
        "df_iter = pd.read_csv(train_file, chunksize=chunk_size)\n",
        "initial_chunk = next(df_iter)\n",
        "\n",
        "pivot = initial_chunk.pivot(index='molecule_smiles', columns='protein_name', values='binds')\n",
        "pivot.reset_index(inplace=True)\n",
        "pivot['Descriptors'] = pivot['molecule_smiles'].apply(lambda mol: [desc[1](Chem.MolFromSmiles(mol)) for desc in Descriptors.descList])"
      ],
      "metadata": {
        "id": "beKZ-WBj_nze"
      },
      "execution_count": null,
      "outputs": []
    },
    {
      "cell_type": "code",
      "source": [
        "descriptors_df = pd.DataFrame(pivot['Descriptors'].tolist(), columns=descriptor_names, index=pivot.index)\n",
        "final_df = pd.concat([pivot, descriptors_df], axis=1)\n",
        "\n",
        "X_initial = final_df.drop(columns=['molecule_smiles'] + list(pivot.columns.get_level_values(0))).to_numpy()\n",
        "\n",
        "X_initial = np.nan_to_num(X_initial, nan=0.0, posinf=1e9, neginf=-1e9)\n",
        "\n",
        "scaler = StandardScaler().fit(X_initial)\n",
        "pca = PCA(n_components=30).fit(scaler.transform(X_initial))\n",
        "\n",
        "i = 0\n",
        "for chunk in pd.read_csv(train_file, chunksize=chunk_size):\n",
        "    print(i)\n",
        "    pivot = chunk.pivot(index='molecule_smiles', columns='protein_name', values='binds')\n",
        "    pivot.reset_index(inplace=True)\n",
        "    pivot['Descriptors'] = pivot['molecule_smiles'].apply(lambda mol: [desc[1](Chem.MolFromSmiles(mol)) for desc in Descriptors.descList])\n",
        "\n",
        "    descriptors_df = pd.DataFrame(pivot['Descriptors'].tolist(), columns=descriptor_names, index=pivot.index)\n",
        "    final_df = pd.concat([pivot, descriptors_df], axis=1)\n",
        "\n",
        "    X = final_df.drop(columns=['molecule_smiles'] + list(pivot.columns.get_level_values(0))).to_numpy()\n",
        "    Y = pivot[['BRD4', 'HSA', 'sEH']].to_numpy()\n",
        "\n",
        "    X = np.nan_to_num(X, nan=0.0, posinf=1e9, neginf=-1e9)\n",
        "    Y = np.nan_to_num(Y, nan=0.0, posinf=0.0, neginf=0.0)\n",
        "\n",
        "    X = scaler.transform(X)\n",
        "    Theta_train = X_processing(pca, X)\n",
        "\n",
        "    model.fit(Theta_train, Y, epochs=10, batch_size=32, validation_split=0.2)\n",
        "\n",
        "    i += 1\n",
        "\n",
        "model.save('trained_model.h5')"
      ],
      "metadata": {
        "colab": {
          "base_uri": "https://localhost:8080/"
        },
        "id": "V8imO9QXa42b",
        "outputId": "5c29b6a2-7055-4028-f40a-56302341cbf7"
      },
      "execution_count": null,
      "outputs": [
        {
          "output_type": "stream",
          "name": "stdout",
          "text": [
            "0\n",
            "Epoch 1/10\n",
            "834/834 [==============================] - 6s 3ms/step - loss: 0.0218 - accuracy: 0.3581 - val_loss: 0.0129 - val_accuracy: 0.2553\n",
            "Epoch 2/10\n",
            "834/834 [==============================] - 3s 3ms/step - loss: 0.0131 - accuracy: 0.3397 - val_loss: 0.0130 - val_accuracy: 0.2811\n",
            "Epoch 3/10\n",
            "834/834 [==============================] - 3s 3ms/step - loss: 0.0123 - accuracy: 0.3239 - val_loss: 0.0142 - val_accuracy: 0.3300\n",
            "Epoch 4/10\n",
            "834/834 [==============================] - 3s 3ms/step - loss: 0.0112 - accuracy: 0.2739 - val_loss: 0.0148 - val_accuracy: 0.3654\n",
            "Epoch 5/10\n",
            "834/834 [==============================] - 3s 3ms/step - loss: 0.0102 - accuracy: 0.2884 - val_loss: 0.0150 - val_accuracy: 0.3150\n",
            "Epoch 6/10\n",
            "834/834 [==============================] - 3s 3ms/step - loss: 0.0094 - accuracy: 0.2847 - val_loss: 0.0171 - val_accuracy: 0.5823\n",
            "Epoch 7/10\n",
            "834/834 [==============================] - 3s 3ms/step - loss: 0.0086 - accuracy: 0.2717 - val_loss: 0.0163 - val_accuracy: 0.5535\n",
            "Epoch 8/10\n",
            "834/834 [==============================] - 3s 3ms/step - loss: 0.0080 - accuracy: 0.2776 - val_loss: 0.0165 - val_accuracy: 0.4636\n",
            "Epoch 9/10\n",
            "834/834 [==============================] - 3s 3ms/step - loss: 0.0071 - accuracy: 0.2682 - val_loss: 0.0173 - val_accuracy: 0.2893\n",
            "Epoch 10/10\n",
            "834/834 [==============================] - 3s 3ms/step - loss: 0.0068 - accuracy: 0.2356 - val_loss: 0.0183 - val_accuracy: 0.3918\n",
            "1\n",
            "Epoch 1/10\n",
            "834/834 [==============================] - 3s 3ms/step - loss: 0.0153 - accuracy: 0.2452 - val_loss: 0.0122 - val_accuracy: 0.3184\n",
            "Epoch 2/10\n",
            "834/834 [==============================] - 3s 3ms/step - loss: 0.0119 - accuracy: 0.2425 - val_loss: 0.0116 - val_accuracy: 0.3409\n",
            "Epoch 3/10\n",
            "834/834 [==============================] - 3s 3ms/step - loss: 0.0106 - accuracy: 0.2649 - val_loss: 0.0127 - val_accuracy: 0.4270\n",
            "Epoch 4/10\n",
            "834/834 [==============================] - 3s 3ms/step - loss: 0.0102 - accuracy: 0.2607 - val_loss: 0.0113 - val_accuracy: 0.1770\n",
            "Epoch 5/10\n",
            "834/834 [==============================] - 3s 3ms/step - loss: 0.0094 - accuracy: 0.2356 - val_loss: 0.0129 - val_accuracy: 0.2542\n",
            "Epoch 6/10\n",
            "834/834 [==============================] - 3s 3ms/step - loss: 0.0089 - accuracy: 0.2267 - val_loss: 0.0131 - val_accuracy: 0.5328\n",
            "Epoch 7/10\n",
            "834/834 [==============================] - 3s 3ms/step - loss: 0.0082 - accuracy: 0.2386 - val_loss: 0.0121 - val_accuracy: 0.1581\n",
            "Epoch 8/10\n",
            "834/834 [==============================] - 3s 3ms/step - loss: 0.0080 - accuracy: 0.2203 - val_loss: 0.0127 - val_accuracy: 0.3862\n",
            "Epoch 9/10\n",
            "834/834 [==============================] - 3s 3ms/step - loss: 0.0074 - accuracy: 0.2285 - val_loss: 0.0140 - val_accuracy: 0.2332\n",
            "Epoch 10/10\n",
            "834/834 [==============================] - 3s 3ms/step - loss: 0.0072 - accuracy: 0.2154 - val_loss: 0.0156 - val_accuracy: 0.3492\n",
            "2\n",
            "Epoch 1/10\n",
            "834/834 [==============================] - 3s 3ms/step - loss: 0.0144 - accuracy: 0.3119 - val_loss: 0.0111 - val_accuracy: 0.1029\n",
            "Epoch 2/10\n",
            "834/834 [==============================] - 3s 3ms/step - loss: 0.0114 - accuracy: 0.3008 - val_loss: 0.0119 - val_accuracy: 0.3516\n",
            "Epoch 3/10\n",
            "834/834 [==============================] - 3s 3ms/step - loss: 0.0101 - accuracy: 0.3150 - val_loss: 0.0113 - val_accuracy: 0.1924\n",
            "Epoch 4/10\n",
            "834/834 [==============================] - 3s 3ms/step - loss: 0.0095 - accuracy: 0.3255 - val_loss: 0.0128 - val_accuracy: 0.3513\n",
            "Epoch 5/10\n",
            "834/834 [==============================] - 3s 3ms/step - loss: 0.0088 - accuracy: 0.3357 - val_loss: 0.0127 - val_accuracy: 0.2760\n",
            "Epoch 6/10\n",
            "834/834 [==============================] - 3s 3ms/step - loss: 0.0085 - accuracy: 0.3162 - val_loss: 0.0126 - val_accuracy: 0.3253\n",
            "Epoch 7/10\n",
            "834/834 [==============================] - 3s 3ms/step - loss: 0.0081 - accuracy: 0.3244 - val_loss: 0.0135 - val_accuracy: 0.3285\n",
            "Epoch 8/10\n",
            "834/834 [==============================] - 3s 3ms/step - loss: 0.0076 - accuracy: 0.3394 - val_loss: 0.0130 - val_accuracy: 0.1719\n",
            "Epoch 9/10\n",
            "834/834 [==============================] - 3s 3ms/step - loss: 0.0072 - accuracy: 0.3238 - val_loss: 0.0142 - val_accuracy: 0.2998\n",
            "Epoch 10/10\n",
            "834/834 [==============================] - 3s 3ms/step - loss: 0.0070 - accuracy: 0.3544 - val_loss: 0.0147 - val_accuracy: 0.3048\n",
            "3\n"
          ]
        }
      ]
    },
    {
      "cell_type": "code",
      "source": [
        "test_pivot = test_df.pivot(index='molecule_smiles', columns='protein_name', values='binds')\n",
        "test_pivot.reset_index(inplace=True)\n",
        "test_pivot['Descriptors'] = test_pivot['molecule_smiles'].apply(lambda mol: [desc[1](Chem.MolFromSmiles(mol)) for desc in Descriptors.descList])\n",
        "\n",
        "test_descriptors_df = pd.DataFrame(test_pivot['Descriptors'].tolist(), columns=descriptor_names, index=test_pivot.index)\n",
        "test_final_df = pd.concat([test_pivot, test_descriptors_df], axis=1)\n",
        "\n",
        "X_test = test_final_df.drop(columns=['molecule_smiles'] + list(test_pivot.columns.get_level_values(0))).to_numpy()\n",
        "X_test = np.nan_to_num(X_test, nan=0.0, posinf=0.0, neginf=0.0)\n",
        "\n",
        "X_test = scaler.transform(X_test)\n",
        "Theta_test = X_processing(pca, X_test)\n",
        "\n",
        "\n",
        "predictions = model.predict(Theta_test)"
      ],
      "metadata": {
        "colab": {
          "base_uri": "https://localhost:8080/",
          "height": 211
        },
        "id": "IQ5a_edA-XtT",
        "outputId": "52e064bd-1dd4-4b1a-d144-fe5c2f533b96"
      },
      "execution_count": null,
      "outputs": [
        {
          "output_type": "error",
          "ename": "NameError",
          "evalue": "name 'test_df' is not defined",
          "traceback": [
            "\u001b[0;31m---------------------------------------------------------------------------\u001b[0m",
            "\u001b[0;31mNameError\u001b[0m                                 Traceback (most recent call last)",
            "\u001b[0;32m<ipython-input-8-68a513a9170a>\u001b[0m in \u001b[0;36m<cell line: 1>\u001b[0;34m()\u001b[0m\n\u001b[0;32m----> 1\u001b[0;31m \u001b[0mtest_pivot\u001b[0m \u001b[0;34m=\u001b[0m \u001b[0mtest_df\u001b[0m\u001b[0;34m.\u001b[0m\u001b[0mpivot\u001b[0m\u001b[0;34m(\u001b[0m\u001b[0mindex\u001b[0m\u001b[0;34m=\u001b[0m\u001b[0;34m'molecule_smiles'\u001b[0m\u001b[0;34m,\u001b[0m \u001b[0mcolumns\u001b[0m\u001b[0;34m=\u001b[0m\u001b[0;34m'protein_name'\u001b[0m\u001b[0;34m,\u001b[0m \u001b[0mvalues\u001b[0m\u001b[0;34m=\u001b[0m\u001b[0;34m'binds'\u001b[0m\u001b[0;34m)\u001b[0m\u001b[0;34m\u001b[0m\u001b[0;34m\u001b[0m\u001b[0m\n\u001b[0m\u001b[1;32m      2\u001b[0m \u001b[0mtest_pivot\u001b[0m\u001b[0;34m.\u001b[0m\u001b[0mreset_index\u001b[0m\u001b[0;34m(\u001b[0m\u001b[0minplace\u001b[0m\u001b[0;34m=\u001b[0m\u001b[0;32mTrue\u001b[0m\u001b[0;34m)\u001b[0m\u001b[0;34m\u001b[0m\u001b[0;34m\u001b[0m\u001b[0m\n\u001b[1;32m      3\u001b[0m \u001b[0mtest_pivot\u001b[0m\u001b[0;34m[\u001b[0m\u001b[0;34m'Descriptors'\u001b[0m\u001b[0;34m]\u001b[0m \u001b[0;34m=\u001b[0m \u001b[0mtest_pivot\u001b[0m\u001b[0;34m[\u001b[0m\u001b[0;34m'molecule_smiles'\u001b[0m\u001b[0;34m]\u001b[0m\u001b[0;34m.\u001b[0m\u001b[0mapply\u001b[0m\u001b[0;34m(\u001b[0m\u001b[0;32mlambda\u001b[0m \u001b[0mmol\u001b[0m\u001b[0;34m:\u001b[0m \u001b[0;34m[\u001b[0m\u001b[0mdesc\u001b[0m\u001b[0;34m[\u001b[0m\u001b[0;36m1\u001b[0m\u001b[0;34m]\u001b[0m\u001b[0;34m(\u001b[0m\u001b[0mChem\u001b[0m\u001b[0;34m.\u001b[0m\u001b[0mMolFromSmiles\u001b[0m\u001b[0;34m(\u001b[0m\u001b[0mmol\u001b[0m\u001b[0;34m)\u001b[0m\u001b[0;34m)\u001b[0m \u001b[0;32mfor\u001b[0m \u001b[0mdesc\u001b[0m \u001b[0;32min\u001b[0m \u001b[0mDescriptors\u001b[0m\u001b[0;34m.\u001b[0m\u001b[0mdescList\u001b[0m\u001b[0;34m]\u001b[0m\u001b[0;34m)\u001b[0m\u001b[0;34m\u001b[0m\u001b[0;34m\u001b[0m\u001b[0m\n\u001b[1;32m      4\u001b[0m \u001b[0;34m\u001b[0m\u001b[0m\n\u001b[1;32m      5\u001b[0m \u001b[0mtest_descriptors_df\u001b[0m \u001b[0;34m=\u001b[0m \u001b[0mpd\u001b[0m\u001b[0;34m.\u001b[0m\u001b[0mDataFrame\u001b[0m\u001b[0;34m(\u001b[0m\u001b[0mtest_pivot\u001b[0m\u001b[0;34m[\u001b[0m\u001b[0;34m'Descriptors'\u001b[0m\u001b[0;34m]\u001b[0m\u001b[0;34m.\u001b[0m\u001b[0mtolist\u001b[0m\u001b[0;34m(\u001b[0m\u001b[0;34m)\u001b[0m\u001b[0;34m,\u001b[0m \u001b[0mcolumns\u001b[0m\u001b[0;34m=\u001b[0m\u001b[0mdescriptor_names\u001b[0m\u001b[0;34m,\u001b[0m \u001b[0mindex\u001b[0m\u001b[0;34m=\u001b[0m\u001b[0mtest_pivot\u001b[0m\u001b[0;34m.\u001b[0m\u001b[0mindex\u001b[0m\u001b[0;34m)\u001b[0m\u001b[0;34m\u001b[0m\u001b[0;34m\u001b[0m\u001b[0m\n",
            "\u001b[0;31mNameError\u001b[0m: name 'test_df' is not defined"
          ]
        }
      ]
    }
  ]
}